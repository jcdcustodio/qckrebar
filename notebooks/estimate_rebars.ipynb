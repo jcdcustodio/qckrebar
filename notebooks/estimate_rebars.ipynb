{
 "cells": [
  {
   "cell_type": "code",
   "execution_count": 1,
   "metadata": {},
   "outputs": [],
   "source": [
    "from calctools import *\n",
    "import pandas as pd"
   ]
  },
  {
   "cell_type": "markdown",
   "metadata": {},
   "source": [
    "**Input data**\n",
    "+ For `cut_lengths` provide required cut schedule as a dictionary where the key is the cut length and the value is the quantity.\n",
    "+ For `wclengths` choose either `clengths_metric`, `clengths_english` or provide your own list."
   ]
  },
  {
   "cell_type": "code",
   "execution_count": 2,
   "metadata": {},
   "outputs": [
    {
     "name": "stdout",
     "output_type": "stream",
     "text": [
      "Standard rebar lengths in m: (6, 7.5, 9, 10.5, 12)\n",
      "Standard rebar lengths in ft: (20, 25, 30, 35, 40)\n"
     ]
    }
   ],
   "source": [
    "print(\"Standard rebar lengths in m:\", clengths_metric)\n",
    "print(\"Standard rebar lengths in ft:\", clengths_english)"
   ]
  },
  {
   "cell_type": "code",
   "execution_count": 3,
   "metadata": {},
   "outputs": [],
   "source": [
    "# This is just sample input. Lengths are all in meters.\n",
    "\n",
    "cut_lengths = {\n",
    "    0.25: 10, \n",
    "    1.25: 10, \n",
    "    2.5: 2, \n",
    "    1.1: 96, \n",
    "    1.0: 70, \n",
    "    0.9: 24, \n",
    "    6: 32, \n",
    "    4.6: 68\n",
    "}\n",
    "\n",
    "wclengths = clengths_metric"
   ]
  },
  {
   "cell_type": "code",
   "execution_count": 4,
   "metadata": {},
   "outputs": [
    {
     "name": "stdout",
     "output_type": "stream",
     "text": [
      "defaultdict(<class 'int'>, {6: 32, 10.5: 34, 7.5: 1})\n",
      "defaultdict(<class 'int'>, {1.3: 26, 0.05: 8})\n",
      "[{'produced_length': 6, 'produced_qty': 32, 'produced_type': 'cut length', 'from_length': 6, 'from_length_type': 'new rebar'}, {'produced_length': 4.6, 'produced_qty': 68, 'produced_type': 'cut length', 'from_length': 10.5, 'from_length_type': 'new rebar'}, {'produced_length': 1.3, 'produced_qty': 34, 'produced_type': 'excess', 'from_length': 10.5, 'from_length_type': 'new rebar'}, {'produced_length': 2.5, 'produced_qty': 2, 'produced_type': 'cut length', 'from_length': 7.5, 'from_length_type': 'new rebar'}, {'produced_length': 2.5, 'produced_qty': 1, 'produced_type': 'excess', 'from_length': 7.5, 'from_length_type': 'new rebar'}, {'produced_length': 1.25, 'produced_qty': 2, 'produced_type': 'cut length', 'from_length': 2.5, 'from_length_type': 'excess rebar'}, {'produced_length': 1.25, 'produced_qty': 8, 'produced_type': 'cut length', 'from_length': 1.3, 'from_length_type': 'excess rebar'}, {'produced_length': 0.05, 'produced_qty': 8, 'produced_type': 'excess', 'from_length': 1.3, 'from_length_type': 'excess rebar'}]\n"
     ]
    }
   ],
   "source": [
    "outputs = get_estimate(cut_schedule=cut_lengths.items(), wclengths=wclengths)\n",
    "for output in outputs:\n",
    "    print(output)"
   ]
  },
  {
   "cell_type": "code",
   "execution_count": 5,
   "metadata": {},
   "outputs": [
    {
     "data": {
      "application/vnd.microsoft.datawrangler.viewer.v0+json": {
       "columns": [
        {
         "name": "index",
         "rawType": "int64",
         "type": "integer"
        },
        {
         "name": "rebar_length",
         "rawType": "float64",
         "type": "float"
        },
        {
         "name": "quantity",
         "rawType": "int64",
         "type": "integer"
        }
       ],
       "conversionMethod": "pd.DataFrame",
       "ref": "3faa46d5-729e-4817-9511-60881227ae47",
       "rows": [
        [
         "0",
         "6.0",
         "32"
        ],
        [
         "1",
         "7.5",
         "1"
        ],
        [
         "2",
         "10.5",
         "34"
        ]
       ],
       "shape": {
        "columns": 2,
        "rows": 3
       }
      },
      "text/html": [
       "<div>\n",
       "<style scoped>\n",
       "    .dataframe tbody tr th:only-of-type {\n",
       "        vertical-align: middle;\n",
       "    }\n",
       "\n",
       "    .dataframe tbody tr th {\n",
       "        vertical-align: top;\n",
       "    }\n",
       "\n",
       "    .dataframe thead th {\n",
       "        text-align: right;\n",
       "    }\n",
       "</style>\n",
       "<table border=\"1\" class=\"dataframe\">\n",
       "  <thead>\n",
       "    <tr style=\"text-align: right;\">\n",
       "      <th></th>\n",
       "      <th>rebar_length</th>\n",
       "      <th>quantity</th>\n",
       "    </tr>\n",
       "  </thead>\n",
       "  <tbody>\n",
       "    <tr>\n",
       "      <th>0</th>\n",
       "      <td>6.0</td>\n",
       "      <td>32</td>\n",
       "    </tr>\n",
       "    <tr>\n",
       "      <th>1</th>\n",
       "      <td>7.5</td>\n",
       "      <td>1</td>\n",
       "    </tr>\n",
       "    <tr>\n",
       "      <th>2</th>\n",
       "      <td>10.5</td>\n",
       "      <td>34</td>\n",
       "    </tr>\n",
       "  </tbody>\n",
       "</table>\n",
       "</div>"
      ],
      "text/plain": [
       "   rebar_length  quantity\n",
       "0           6.0        32\n",
       "1           7.5         1\n",
       "2          10.5        34"
      ]
     },
     "execution_count": 5,
     "metadata": {},
     "output_type": "execute_result"
    }
   ],
   "source": [
    "columns_estimate = [\"rebar_length\", \"quantity\"]\n",
    "pd.DataFrame(sorted(outputs[0].items()), columns=columns_estimate)"
   ]
  },
  {
   "cell_type": "code",
   "execution_count": 6,
   "metadata": {},
   "outputs": [
    {
     "data": {
      "application/vnd.microsoft.datawrangler.viewer.v0+json": {
       "columns": [
        {
         "name": "index",
         "rawType": "int64",
         "type": "integer"
        },
        {
         "name": "excess_length",
         "rawType": "float64",
         "type": "float"
        },
        {
         "name": "quantity",
         "rawType": "int64",
         "type": "integer"
        }
       ],
       "conversionMethod": "pd.DataFrame",
       "ref": "19c203e7-70eb-419f-8c68-db813c29bb14",
       "rows": [
        [
         "0",
         "1.3",
         "26"
        ],
        [
         "1",
         "0.05",
         "8"
        ]
       ],
       "shape": {
        "columns": 2,
        "rows": 2
       }
      },
      "text/html": [
       "<div>\n",
       "<style scoped>\n",
       "    .dataframe tbody tr th:only-of-type {\n",
       "        vertical-align: middle;\n",
       "    }\n",
       "\n",
       "    .dataframe tbody tr th {\n",
       "        vertical-align: top;\n",
       "    }\n",
       "\n",
       "    .dataframe thead th {\n",
       "        text-align: right;\n",
       "    }\n",
       "</style>\n",
       "<table border=\"1\" class=\"dataframe\">\n",
       "  <thead>\n",
       "    <tr style=\"text-align: right;\">\n",
       "      <th></th>\n",
       "      <th>excess_length</th>\n",
       "      <th>quantity</th>\n",
       "    </tr>\n",
       "  </thead>\n",
       "  <tbody>\n",
       "    <tr>\n",
       "      <th>0</th>\n",
       "      <td>1.30</td>\n",
       "      <td>26</td>\n",
       "    </tr>\n",
       "    <tr>\n",
       "      <th>1</th>\n",
       "      <td>0.05</td>\n",
       "      <td>8</td>\n",
       "    </tr>\n",
       "  </tbody>\n",
       "</table>\n",
       "</div>"
      ],
      "text/plain": [
       "   excess_length  quantity\n",
       "0           1.30        26\n",
       "1           0.05         8"
      ]
     },
     "execution_count": 6,
     "metadata": {},
     "output_type": "execute_result"
    }
   ],
   "source": [
    "columns_excess = [\"excess_length\", \"quantity\"]\n",
    "pd.DataFrame(outputs[1].items(), columns=columns_excess)"
   ]
  },
  {
   "cell_type": "code",
   "execution_count": 7,
   "metadata": {},
   "outputs": [
    {
     "data": {
      "application/vnd.microsoft.datawrangler.viewer.v0+json": {
       "columns": [
        {
         "name": "index",
         "rawType": "int64",
         "type": "integer"
        },
        {
         "name": "produced_length",
         "rawType": "float64",
         "type": "float"
        },
        {
         "name": "produced_qty",
         "rawType": "int64",
         "type": "integer"
        },
        {
         "name": "produced_type",
         "rawType": "object",
         "type": "string"
        },
        {
         "name": "from_length",
         "rawType": "float64",
         "type": "float"
        },
        {
         "name": "from_length_type",
         "rawType": "object",
         "type": "string"
        }
       ],
       "conversionMethod": "pd.DataFrame",
       "ref": "fdda4d37-77bc-4687-aef7-8cc80c103d52",
       "rows": [
        [
         "0",
         "6.0",
         "32",
         "cut length",
         "6.0",
         "new rebar"
        ],
        [
         "1",
         "4.6",
         "68",
         "cut length",
         "10.5",
         "new rebar"
        ],
        [
         "2",
         "1.3",
         "34",
         "excess",
         "10.5",
         "new rebar"
        ],
        [
         "3",
         "2.5",
         "2",
         "cut length",
         "7.5",
         "new rebar"
        ],
        [
         "4",
         "2.5",
         "1",
         "excess",
         "7.5",
         "new rebar"
        ],
        [
         "5",
         "1.25",
         "2",
         "cut length",
         "2.5",
         "excess rebar"
        ],
        [
         "6",
         "1.25",
         "8",
         "cut length",
         "1.3",
         "excess rebar"
        ],
        [
         "7",
         "0.05",
         "8",
         "excess",
         "1.3",
         "excess rebar"
        ]
       ],
       "shape": {
        "columns": 5,
        "rows": 8
       }
      },
      "text/html": [
       "<div>\n",
       "<style scoped>\n",
       "    .dataframe tbody tr th:only-of-type {\n",
       "        vertical-align: middle;\n",
       "    }\n",
       "\n",
       "    .dataframe tbody tr th {\n",
       "        vertical-align: top;\n",
       "    }\n",
       "\n",
       "    .dataframe thead th {\n",
       "        text-align: right;\n",
       "    }\n",
       "</style>\n",
       "<table border=\"1\" class=\"dataframe\">\n",
       "  <thead>\n",
       "    <tr style=\"text-align: right;\">\n",
       "      <th></th>\n",
       "      <th>produced_length</th>\n",
       "      <th>produced_qty</th>\n",
       "      <th>produced_type</th>\n",
       "      <th>from_length</th>\n",
       "      <th>from_length_type</th>\n",
       "    </tr>\n",
       "  </thead>\n",
       "  <tbody>\n",
       "    <tr>\n",
       "      <th>0</th>\n",
       "      <td>6.00</td>\n",
       "      <td>32</td>\n",
       "      <td>cut length</td>\n",
       "      <td>6.0</td>\n",
       "      <td>new rebar</td>\n",
       "    </tr>\n",
       "    <tr>\n",
       "      <th>1</th>\n",
       "      <td>4.60</td>\n",
       "      <td>68</td>\n",
       "      <td>cut length</td>\n",
       "      <td>10.5</td>\n",
       "      <td>new rebar</td>\n",
       "    </tr>\n",
       "    <tr>\n",
       "      <th>2</th>\n",
       "      <td>1.30</td>\n",
       "      <td>34</td>\n",
       "      <td>excess</td>\n",
       "      <td>10.5</td>\n",
       "      <td>new rebar</td>\n",
       "    </tr>\n",
       "    <tr>\n",
       "      <th>3</th>\n",
       "      <td>2.50</td>\n",
       "      <td>2</td>\n",
       "      <td>cut length</td>\n",
       "      <td>7.5</td>\n",
       "      <td>new rebar</td>\n",
       "    </tr>\n",
       "    <tr>\n",
       "      <th>4</th>\n",
       "      <td>2.50</td>\n",
       "      <td>1</td>\n",
       "      <td>excess</td>\n",
       "      <td>7.5</td>\n",
       "      <td>new rebar</td>\n",
       "    </tr>\n",
       "    <tr>\n",
       "      <th>5</th>\n",
       "      <td>1.25</td>\n",
       "      <td>2</td>\n",
       "      <td>cut length</td>\n",
       "      <td>2.5</td>\n",
       "      <td>excess rebar</td>\n",
       "    </tr>\n",
       "    <tr>\n",
       "      <th>6</th>\n",
       "      <td>1.25</td>\n",
       "      <td>8</td>\n",
       "      <td>cut length</td>\n",
       "      <td>1.3</td>\n",
       "      <td>excess rebar</td>\n",
       "    </tr>\n",
       "    <tr>\n",
       "      <th>7</th>\n",
       "      <td>0.05</td>\n",
       "      <td>8</td>\n",
       "      <td>excess</td>\n",
       "      <td>1.3</td>\n",
       "      <td>excess rebar</td>\n",
       "    </tr>\n",
       "  </tbody>\n",
       "</table>\n",
       "</div>"
      ],
      "text/plain": [
       "   produced_length  produced_qty produced_type  from_length from_length_type\n",
       "0             6.00            32    cut length          6.0        new rebar\n",
       "1             4.60            68    cut length         10.5        new rebar\n",
       "2             1.30            34        excess         10.5        new rebar\n",
       "3             2.50             2    cut length          7.5        new rebar\n",
       "4             2.50             1        excess          7.5        new rebar\n",
       "5             1.25             2    cut length          2.5     excess rebar\n",
       "6             1.25             8    cut length          1.3     excess rebar\n",
       "7             0.05             8        excess          1.3     excess rebar"
      ]
     },
     "execution_count": 7,
     "metadata": {},
     "output_type": "execute_result"
    }
   ],
   "source": [
    "pd.DataFrame(outputs[2])"
   ]
  }
 ],
 "metadata": {
  "kernelspec": {
   "display_name": "Python 3",
   "language": "python",
   "name": "python3"
  },
  "language_info": {
   "codemirror_mode": {
    "name": "ipython",
    "version": 3
   },
   "file_extension": ".py",
   "mimetype": "text/x-python",
   "name": "python",
   "nbconvert_exporter": "python",
   "pygments_lexer": "ipython3",
   "version": "3.13.2"
  }
 },
 "nbformat": 4,
 "nbformat_minor": 2
}
